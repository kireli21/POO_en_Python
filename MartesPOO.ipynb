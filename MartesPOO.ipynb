{
  "nbformat": 4,
  "nbformat_minor": 0,
  "metadata": {
    "colab": {
      "provenance": [],
      "authorship_tag": "ABX9TyMHYsg1TR9IxR5vNSHJ9JC+",
      "include_colab_link": true
    },
    "kernelspec": {
      "name": "python3",
      "display_name": "Python 3"
    },
    "language_info": {
      "name": "python"
    }
  },
  "cells": [
    {
      "cell_type": "markdown",
      "metadata": {
        "id": "view-in-github",
        "colab_type": "text"
      },
      "source": [
        "<a href=\"https://colab.research.google.com/github/kireli21/POO_en_Python/blob/main/MartesPOO.ipynb\" target=\"_parent\"><img src=\"https://colab.research.google.com/assets/colab-badge.svg\" alt=\"Open In Colab\"/></a>"
      ]
    },
    {
      "cell_type": "code",
      "execution_count": 14,
      "metadata": {
        "id": "L3KlplBA8fNx"
      },
      "outputs": [],
      "source": [
        "alumno = {'numero_cuenta' : 31821, 'carrera' : 'ICO'\n",
        "          , 'direccion' : {'calle' : 'rancho seco', 'numero' : 642},\n",
        "          'telefonos' : ['212322', '2354265', '254853']}"
      ]
    },
    {
      "cell_type": "code",
      "source": [
        "print(alumno['direccion']['calle'][3:6])\n",
        "print(alumno['telefonos'])\n",
        "print(alumno)\n",
        "\n",
        "alumno['facultad'] = 'Fes Aragon'\n",
        "\n",
        "print(alumno)"
      ],
      "metadata": {
        "colab": {
          "base_uri": "https://localhost:8080/"
        },
        "id": "50Tvis3I9ADT",
        "outputId": "ee949cdf-815f-4ab4-ccca-f4ec68e24564"
      },
      "execution_count": 15,
      "outputs": [
        {
          "output_type": "stream",
          "name": "stdout",
          "text": [
            "cho\n",
            "['212322', '2354265', '254853']\n",
            "{'numero_cuenta': 31821, 'carrera': 'ICO', 'direccion': {'calle': 'rancho seco', 'numero': 642}, 'telefonos': ['212322', '2354265', '254853']}\n",
            "{'numero_cuenta': 31821, 'carrera': 'ICO', 'direccion': {'calle': 'rancho seco', 'numero': 642}, 'telefonos': ['212322', '2354265', '254853'], 'facultad': 'Fes Aragon'}\n"
          ]
        }
      ]
    },
    {
      "cell_type": "code",
      "source": [
        "#if\n",
        "edad = 20\n",
        "if edad >= 18:\n",
        "    print(\"Eres mayor de edad.\")\n",
        "    print(\"otra cosa\")\n",
        "    print(\",jzdchkajyshdtc\")"
      ],
      "metadata": {
        "colab": {
          "base_uri": "https://localhost:8080/"
        },
        "id": "DbBLrpn9_Fx-",
        "outputId": "a9d356f9-de52-4f49-bad1-c32c63526b58"
      },
      "execution_count": 18,
      "outputs": [
        {
          "output_type": "stream",
          "name": "stdout",
          "text": [
            "Eres mayor de edad.\n",
            "otra cosa\n",
            ",jzdchkajyshdtc\n"
          ]
        }
      ]
    },
    {
      "cell_type": "code",
      "source": [
        "#if\n",
        "edad = 10\n",
        "if edad >= 18:\n",
        "    print(\"Eres mayor de edad.\")\n",
        "    print(\"otra cosa\")\n",
        "    print(\",jzdchkajyshdtc\")\n",
        "else:\n",
        "  print(\"Eres menor de edad\")"
      ],
      "metadata": {
        "colab": {
          "base_uri": "https://localhost:8080/"
        },
        "id": "uXnFpt7G_Zok",
        "outputId": "d7a53d5a-36ff-4f65-9b63-a798cb5b5dc8"
      },
      "execution_count": 19,
      "outputs": [
        {
          "output_type": "stream",
          "name": "stdout",
          "text": [
            "Eres menor de edad\n"
          ]
        }
      ]
    },
    {
      "cell_type": "code",
      "source": [
        "# if- elif - else\n",
        "edad = 15\n",
        "if edad < 13:\n",
        "    print(\"Eres un niño.\")\n",
        "elif edad < 18:\n",
        "    print(\"Eres un adolescente.\")\n",
        "else:\n",
        "    print(\"Eres un adulto.\")"
      ],
      "metadata": {
        "colab": {
          "base_uri": "https://localhost:8080/"
        },
        "id": "1bf06M7__vkx",
        "outputId": "a7282daa-5928-483c-bb5c-fd72b6870f28"
      },
      "execution_count": 24,
      "outputs": [
        {
          "output_type": "stream",
          "name": "stdout",
          "text": [
            "Eres un adolescente.\n"
          ]
        }
      ]
    },
    {
      "cell_type": "code",
      "source": [
        "# if-elif-elif, en phyton antes no habia switch, llamado en el lenguaje match.\n",
        "edad = 20\n",
        "if edad < 13:\n",
        "    print(\"Eres un niño.\")\n",
        "elif edad < 18:\n",
        "    print(\"Eres un adolescente.\")\n",
        "elif edad < 30:\n",
        "    print(\"Eres un joven adulto.\")"
      ],
      "metadata": {
        "colab": {
          "base_uri": "https://localhost:8080/"
        },
        "id": "aoSHiJsrAVYo",
        "outputId": "a6196f45-cfef-4345-9048-c991c3eafb92"
      },
      "execution_count": 25,
      "outputs": [
        {
          "output_type": "stream",
          "name": "stdout",
          "text": [
            "Eres un joven adulto.\n"
          ]
        }
      ]
    },
    {
      "cell_type": "code",
      "source": [
        "# For   for(int = 1 ; i<10 ; i++) <- Java,c++\n",
        "\n",
        "lim = 11 # lo que haya aqui depende de lo que pongas\n",
        "\n",
        "for i in range(1, lim, 1):\n",
        "    print(i)"
      ],
      "metadata": {
        "colab": {
          "base_uri": "https://localhost:8080/"
        },
        "id": "VkwXTG-HBJn3",
        "outputId": "f3b59598-f881-4b71-ce79-63e54a85d360"
      },
      "execution_count": 28,
      "outputs": [
        {
          "output_type": "stream",
          "name": "stdout",
          "text": [
            "1\n",
            "2\n",
            "3\n",
            "4\n",
            "5\n",
            "6\n",
            "7\n",
            "8\n",
            "9\n",
            "10\n"
          ]
        }
      ]
    },
    {
      "cell_type": "code",
      "source": [
        "# for each para java\n",
        "frutas = ['piña', 'pera', 'manzana', 'fresa', 'aguacate']\n",
        "for numero in frutas:\n",
        "    print(numero)\n",
        "\n",
        "print('\\n------------------------------\\n')\n",
        "#Hay 2 palabras reservadas: break -> rompe el ciclo; continue -> solo interrumpe\n",
        "\n",
        "for numero in frutas:\n",
        "    if numero == \"manzana\":\n",
        "        continue   # ó continue\n",
        "    print(numero)  # imprime la fruta"
      ],
      "metadata": {
        "colab": {
          "base_uri": "https://localhost:8080/"
        },
        "id": "T6hD1MKmCTGz",
        "outputId": "8e3e6582-cd16-456b-9b87-c24a9b8af1b7"
      },
      "execution_count": 33,
      "outputs": [
        {
          "output_type": "stream",
          "name": "stdout",
          "text": [
            "piña\n",
            "pera\n",
            "manzana\n",
            "fresa\n",
            "aguacate\n",
            "\n",
            "------------------------------\n",
            "\n",
            "piña\n",
            "pera\n",
            "fresa\n",
            "aguacate\n"
          ]
        }
      ]
    },
    {
      "cell_type": "code",
      "source": [
        "tamaño = 0\n",
        "\n",
        "while tamaño < 10:\n",
        "  print(tamaño)\n",
        "  tamaño = int(input('dame un numero entero:'))\n",
        "\n",
        "print('Fin')"
      ],
      "metadata": {
        "colab": {
          "base_uri": "https://localhost:8080/"
        },
        "id": "ACevVDyPDfR-",
        "outputId": "00c2f60e-5f30-4311-9071-37def08076eb"
      },
      "execution_count": 35,
      "outputs": [
        {
          "output_type": "stream",
          "name": "stdout",
          "text": [
            "0\n",
            "dame un numero entero:1\n",
            "1\n",
            "dame un numero entero:2\n",
            "2\n",
            "dame un numero entero:8\n",
            "8\n",
            "dame un numero entero:70\n",
            "Fin\n"
          ]
        }
      ]
    }
  ]
}